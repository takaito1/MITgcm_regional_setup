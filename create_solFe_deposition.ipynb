{
 "cells": [
  {
   "cell_type": "markdown",
   "id": "b5b05f12-68ba-420a-ac83-ccd3441929f9",
   "metadata": {},
   "source": [
    "# Create atmos iron deposition for regional MITgcm based on GLODAPv2 and Johnson and Meskhidze (2013)\n",
    "    - The data is based on 2009 meteorology"
   ]
  },
  {
   "cell_type": "code",
   "execution_count": 1,
   "id": "120a8c4d-7ed8-42b3-87b7-9e5240ca6c02",
   "metadata": {},
   "outputs": [],
   "source": [
    "import numpy as np\n",
    "import xarray as xr\n",
    "import xmitgcm as xm\n",
    "import os\n",
    "from scipy.interpolate import RectBivariateSpline\n",
    "import matplotlib.pyplot as plt\n",
    "import warnings\n",
    "warnings.filterwarnings('ignore')"
   ]
  },
  {
   "cell_type": "code",
   "execution_count": 2,
   "id": "7961e28d-0d8e-4fd8-ab87-aa54d74dd0e3",
   "metadata": {},
   "outputs": [],
   "source": [
    "srcdir='./JM2013/'"
   ]
  },
  {
   "cell_type": "code",
   "execution_count": 3,
   "id": "c0dfd647-98b2-4589-bc74-4b3331371875",
   "metadata": {},
   "outputs": [],
   "source": [
    "# define new grid\n",
    "runcase = 'NorthPacific.lonlat2x2.42lev'\n",
    "rname = 'NorthPacific'\n",
    "xrange = [131, 249]  # zonal extent\n",
    "yrange = [5, 62]  # meridional extent\n",
    "n = [60, 40]   # number of grid points"
   ]
  },
  {
   "cell_type": "code",
   "execution_count": 4,
   "id": "8f1d8f02-126c-4ab2-b2ff-594f42fd6cce",
   "metadata": {},
   "outputs": [
    {
     "name": "stdout",
     "output_type": "stream",
     "text": [
      "x0=130.0\n",
      "y0=4.269230769230769\n",
      "Nx=60\n",
      "Ny=40\n",
      "Nz=42\n"
     ]
    }
   ],
   "source": [
    "#define a new grid coordinates\n",
    "xn = np.linspace(xrange[0], xrange[1], n[0])\n",
    "yn = np.linspace(yrange[0], yrange[1], n[1])\n",
    "zn=np.array([-5.0000e+00, -1.5500e+01, -2.7000e+01, -3.9500e+01, -5.3000e+01,\n",
    "       -6.8000e+01, -8.5000e+01, -1.0400e+02, -1.2550e+02, -1.5000e+02,\n",
    "       -1.7750e+02, -2.0850e+02, -2.4350e+02, -2.8300e+02, -3.2800e+02,\n",
    "       -3.7950e+02, -4.3850e+02, -5.0600e+02, -5.8300e+02, -6.7100e+02,\n",
    "       -7.7200e+02, -8.8800e+02, -1.0210e+03, -1.1735e+03, -1.3485e+03,\n",
    "       -1.5495e+03, -1.7805e+03, -2.0460e+03, -2.3190e+03, -2.5750e+03,\n",
    "       -2.8250e+03, -3.0750e+03, -3.3250e+03, -3.5750e+03, -3.8250e+03,\n",
    "       -4.0750e+03, -4.3250e+03, -4.5750e+03, -4.8250e+03, -5.0750e+03,\n",
    "       -5.3250e+03, -5.5750e+03], dtype=float) * -1\n",
    "#\n",
    "# print the values of x0 and y0\n",
    "x0 = xn[0]-(xn[1]-xn[0])/2.\n",
    "y0 = yn[0]-(yn[1]-yn[0])/2.\n",
    "print('x0='+str(x0))\n",
    "print('y0='+str(y0))\n",
    "#\n",
    "# print the number of grid points in x, y and z\n",
    "print('Nx='+str(xn.size))\n",
    "print('Ny='+str(yn.size))\n",
    "print('Nz='+str(zn.size))"
   ]
  },
  {
   "cell_type": "code",
   "execution_count": 5,
   "id": "50789d57-d7db-4630-ac5e-5349f371e036",
   "metadata": {},
   "outputs": [],
   "source": [
    "# Load latitude and longitude data\n",
    "LAT_center = np.loadtxt(srcdir+'LAT_center.ascii')\n",
    "LONG_center = np.loadtxt(srcdir+'LONG_center.ascii')\n",
    "y = LAT_center[:,0]\n",
    "x = LONG_center[0,:]\n",
    "Nx=x.size\n",
    "Ny=y.size"
   ]
  },
  {
   "cell_type": "code",
   "execution_count": 6,
   "id": "f1e1ee0c-7a4f-4254-92c1-178381ecf6e3",
   "metadata": {},
   "outputs": [],
   "source": [
    "dif=np.zeros((12,Ny,Nx))\n",
    "solfe=np.zeros((12,Ny,Nx))\n",
    "totfe1=np.zeros((12,Ny,Nx))\n",
    "ym=['2009_03', '2009_04', '2009_05', '2009_06', \n",
    "    '2009_07', '2009_08', '2009_09', '2009_10', \n",
    "    '2009_11', '2009_12', '2010_01', '2010_02']\n",
    "#\n",
    "# Iterate over the months\n",
    "for i, ym_i in enumerate(ym):\n",
    "    # Load DIF_percent data for the current month\n",
    "    fn = f'DIF_percent_{ym_i}.ascii'\n",
    "    dif[i,:,:] = np.loadtxt(srcdir+fn)\n",
    "    \n",
    "    # Load SOLFE_DEP_ug_m2_month data for the current month\n",
    "    fn = f'SOLFE_DEP_ug_m2_month_{ym_i}.ascii'\n",
    "    solfe[i,:,:] = np.loadtxt(srcdir+fn)\n",
    "    \n",
    "    # Calculate totfe1 by dividing solfe by dif and multiplying by 100\n",
    "    totfe1[i,:,:] = solfe[i,:,:] / dif[i,:,:] * 100"
   ]
  },
  {
   "cell_type": "code",
   "execution_count": 7,
   "id": "248016d7-8107-42ff-8908-02ad75ae7537",
   "metadata": {},
   "outputs": [],
   "source": [
    "tmp1=np.zeros((12,Ny,Nx))\n",
    "mo = [3, 4, 5, 6, 7, 8, 9, 10, 11, 12, 1, 2]\n",
    "#\n",
    "xd=np.roll(x,int(Nx/2))\n",
    "xd=np.where(xd<0,xd+360,xd)\n",
    "yd=y\n",
    "month=np.arange(1,13,1)\n",
    "#\n",
    "for i in range(12):\n",
    "    tmp = solfe[i, :, :] / 86400 / 30.4 / 55.845 * 1e-6 \n",
    "    # converted to mol/m2/sec\n",
    "    tmp1[mo[i]-1,:,:]=np.roll(tmp,int(Nx/2),axis=1)\n",
    "\n",
    "#plt.pcolormesh(xd,yd,np.log10(tmp1[0,:,:]))"
   ]
  },
  {
   "cell_type": "code",
   "execution_count": 8,
   "id": "8e1c8fd4-439a-411d-ade5-7546ddc5cb34",
   "metadata": {},
   "outputs": [],
   "source": [
    "# Create a DataArray using tmp1 data\n",
    "da = xr.DataArray(data=tmp1, name='solfedep', dims=['month', 'lat', 'lon'], coords={'month': month, 'lat': yd, 'lon': xd})\n",
    "\n",
    "# Interpolate the DataArray to new latitude and longitude coordinates\n",
    "sfed = da.interp(lat=yn, lon=xn).to_numpy()\n",
    "\n",
    "# Write the sfed array to a binary file\n",
    "xm.utils.write_to_binary(sfed.flatten(), 'solFe_dep_JM2013.bin')\n"
   ]
  },
  {
   "cell_type": "code",
   "execution_count": null,
   "id": "f1d3f9c2-ab50-4662-a763-df2eac758012",
   "metadata": {},
   "outputs": [],
   "source": []
  }
 ],
 "metadata": {
  "kernelspec": {
   "display_name": "Calc0",
   "language": "python",
   "name": "calc0"
  },
  "language_info": {
   "codemirror_mode": {
    "name": "ipython",
    "version": 3
   },
   "file_extension": ".py",
   "mimetype": "text/x-python",
   "name": "python",
   "nbconvert_exporter": "python",
   "pygments_lexer": "ipython3",
   "version": "3.9.10"
  }
 },
 "nbformat": 4,
 "nbformat_minor": 5
}
